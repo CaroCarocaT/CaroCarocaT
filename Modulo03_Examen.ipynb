{
 "cells": [
  {
   "cell_type": "markdown",
   "id": "f59f77f2",
   "metadata": {},
   "source": [
    "Primera parte\n",
    "============\n",
    "\n",
    "“Medidas de tendencia Central”\n",
    "\n",
    "Una vez escogido el data set calcule las medida de tendencia central con una columna con datos numéricos. Es decir tome un \n",
    "Análisis univariado de alguna variable y calcule los estadísticos y de determine que tipo de distribucion tiene ( graficos).\n",
    "\n",
    "Tome por ejemplo el archivo de “Medidas de tendencia central”, realice las analisis y conclusiones. \n"
   ]
  },
  {
   "cell_type": "code",
   "execution_count": null,
   "id": "311d6752",
   "metadata": {},
   "outputs": [],
   "source": []
  }
 ],
 "metadata": {
  "kernelspec": {
   "display_name": "Python 3 (ipykernel)",
   "language": "python",
   "name": "python3"
  },
  "language_info": {
   "codemirror_mode": {
    "name": "ipython",
    "version": 3
   },
   "file_extension": ".py",
   "mimetype": "text/x-python",
   "name": "python",
   "nbconvert_exporter": "python",
   "pygments_lexer": "ipython3",
   "version": "3.9.7"
  }
 },
 "nbformat": 4,
 "nbformat_minor": 5
}
